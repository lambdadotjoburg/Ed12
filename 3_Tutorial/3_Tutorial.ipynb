{
 "cells": [
  {
   "cell_type": "markdown",
   "id": "bb0a91b0",
   "metadata": {},
   "source": [
    "# Manim"
   ]
  },
  {
   "cell_type": "code",
   "execution_count": 1,
   "id": "d804b623",
   "metadata": {},
   "outputs": [
    {
     "data": {
      "text/html": [
       "<pre style=\"white-space:pre;overflow-x:auto;line-height:normal;font-family:Menlo,'DejaVu Sans Mono',consolas,'Courier New',monospace\">Manim Community <span style=\"color: #008000; text-decoration-color: #008000\">v0.17.3</span>\n",
       "\n",
       "</pre>\n"
      ],
      "text/plain": [
       "Manim Community \u001b[32mv0.\u001b[0m\u001b[32m17.3\u001b[0m\n",
       "\n"
      ]
     },
     "metadata": {},
     "output_type": "display_data"
    }
   ],
   "source": [
    "from manim import *"
   ]
  },
  {
   "cell_type": "code",
   "execution_count": null,
   "id": "53983f0a",
   "metadata": {},
   "outputs": [],
   "source": [
    "# A list of all CLI (Command Line Interface) flags\n",
    "\n",
    "%manim --help"
   ]
  },
  {
   "cell_type": "code",
   "execution_count": null,
   "id": "d90324fd",
   "metadata": {},
   "outputs": [],
   "source": [
    "# Example Usage\n",
    "\n",
    "%manim render --help"
   ]
  },
  {
   "cell_type": "code",
   "execution_count": null,
   "id": "acb63869",
   "metadata": {},
   "outputs": [],
   "source": [
    "%%manim -qm LaTeX\n",
    "\n",
    "class LaTeX(Scene):\n",
    "    def construct(self):\n",
    "        equation = MathTex(\n",
    "            r\"e^x = x^0 + x^1 + \\frac{1}{2} x^2 + \\frac{1}{6} x^3 + \\cdots + \\frac{1}{n!} x^n + \\cdots\",\n",
    "            substrings_to_isolate=\"x\"\n",
    "        )\n",
    "        equation.set_color_by_tex(\"x\", YELLOW)\n",
    "        self.play(Write(equation))"
   ]
  },
  {
   "cell_type": "code",
   "execution_count": 2,
   "id": "e5eceb9a",
   "metadata": {},
   "outputs": [],
   "source": [
    "# Setting congif.verbosity = \"WARNING\" suppresses the unnecessary lines of code\n",
    "\n",
    "config.verbosity = \"WARNING\""
   ]
  },
  {
   "cell_type": "code",
   "execution_count": null,
   "id": "575f1211",
   "metadata": {},
   "outputs": [],
   "source": [
    "%%manim -qm LaTeX\n",
    "\n",
    "class LaTeX(Scene):\n",
    "    def construct(self):\n",
    "        equation = MathTex(\n",
    "            r\"e^x = x^0 + x^1 + \\frac{1}{2} x^2 + \\frac{1}{6} x^3 + \\cdots + \\frac{1}{n!} x^n + \\cdots\",\n",
    "            substrings_to_isolate=\"x\"\n",
    "        )\n",
    "        equation.set_color_by_tex(\"x\", YELLOW)\n",
    "        self.play(Write(equation))"
   ]
  },
  {
   "cell_type": "code",
   "execution_count": null,
   "id": "d3491722",
   "metadata": {},
   "outputs": [],
   "source": [
    "# This can be turned back on by setting config.verbosity = \"DEBUG|INFO|WARNING|ERROR|CRITICAL\"\n",
    "\n",
    "config.verbosity = \"INFO\""
   ]
  },
  {
   "cell_type": "code",
   "execution_count": null,
   "id": "558ad3dd",
   "metadata": {},
   "outputs": [],
   "source": [
    "%%manim -qm LaTeX\n",
    "\n",
    "class LaTeX(Scene):\n",
    "    def construct(self):\n",
    "        equation = MathTex(\n",
    "            r\"e^x = x^0 + x^1 + \\frac{1}{2} x^2 + \\frac{1}{6} x^3 + \\cdots + \\frac{1}{n!} x^n + \\cdots\",\n",
    "            substrings_to_isolate=\"x\"\n",
    "        )\n",
    "        equation.set_color_by_tex(\"x\", YELLOW)\n",
    "        self.play(Write(equation))"
   ]
  },
  {
   "cell_type": "code",
   "execution_count": null,
   "id": "4a847a30",
   "metadata": {},
   "outputs": [],
   "source": [
    "# Setting congif.verbosity = \"WARNING\" suppresses the unnecessary lines of code\n",
    "\n",
    "config.verbosity = \"WARNING\""
   ]
  },
  {
   "cell_type": "code",
   "execution_count": null,
   "id": "7da7dcc6",
   "metadata": {},
   "outputs": [],
   "source": [
    "%%manim -qm LaTeX\n",
    "\n",
    "class LaTeX(Scene):\n",
    "    def construct(self):\n",
    "        equation = MathTex(\n",
    "            r\"e^x = x^0 + x^1 + \\frac{1}{2} x^2 + \\frac{1}{6} x^3 + \\cdots + \\frac{1}{n!} x^n + \\cdots\",\n",
    "            substrings_to_isolate=\"x\"\n",
    "        )\n",
    "        equation.set_color_by_tex(\"x\", YELLOW)\n",
    "        self.play(Write(equation))"
   ]
  },
  {
   "cell_type": "markdown",
   "id": "014da07a",
   "metadata": {},
   "source": [
    "## Altering Config File Variables"
   ]
  },
  {
   "cell_type": "code",
   "execution_count": null,
   "id": "76a64c1b",
   "metadata": {},
   "outputs": [],
   "source": [
    "import os\n",
    "os._exit(00)"
   ]
  },
  {
   "cell_type": "code",
   "execution_count": null,
   "id": "231a95bc",
   "metadata": {},
   "outputs": [],
   "source": [
    "from manim import *"
   ]
  },
  {
   "cell_type": "code",
   "execution_count": null,
   "id": "9ce54a83",
   "metadata": {},
   "outputs": [],
   "source": [
    "config.verbosity = \"WARNING\""
   ]
  },
  {
   "cell_type": "code",
   "execution_count": null,
   "id": "2de0d7e5",
   "metadata": {},
   "outputs": [],
   "source": [
    "import os\n",
    "\n",
    "directory = os.getcwd()\n",
    "\n",
    "PATH = os.path.join(directory, \"videos\")\n",
    "\n",
    "print(type(PATH), \" \", PATH)"
   ]
  },
  {
   "cell_type": "code",
   "execution_count": 9,
   "id": "afea122a",
   "metadata": {},
   "outputs": [
    {
     "name": "stdout",
     "output_type": "stream",
     "text": [
      "./media\n",
      "None\n",
      "{media_dir}/videos/{module_name}/{quality}\n",
      "{video_dir}/partial_movie_files/{scene_name}\n",
      "{media_dir}/images/{module_name}\n",
      "{media_dir}/Tex\n",
      "{media_dir}/texts\n",
      "False\n",
      "{video_dir}/sections\n",
      "25\n",
      "75%\n",
      "black\n",
      "True\n"
     ]
    }
   ],
   "source": [
    "print(config.media_dir) # ./media\n",
    "print(config.media_embed) # None\n",
    "print(config.video_dir) # {media_dir}/videos/{module_name}/{quality}\n",
    "print(config.partial_movie_dir) # {video_dir}/partial_movie_files/{scene_name}\n",
    "print(config.images_dir) # {media_dir}/images/{module_name}\n",
    "print(config.tex_dir) # {media_dir}/Tex\n",
    "print(config.text_dir) # {media_dir}/texts\n",
    "print(config.save_sections) # False\n",
    "print(config.sections_dir) # {video_dir}/sections\n",
    "print(config.frame_rate) # 60\n",
    "print(config.media_width) # 60%\n",
    "print(config.background_color) # black\n",
    "print(config.enable_gui) # True"
   ]
  },
  {
   "cell_type": "code",
   "execution_count": null,
   "id": "d3d7f1b6",
   "metadata": {},
   "outputs": [],
   "source": [
    "# config.video_dir = \"{media_dir}/videos/{module_name}/{quality}\" [Default]\n",
    "config.video_dir = PATH\n",
    "\n",
    "# config.partial_movie_dir = \"{video_dir}/partial_movie_files/{scene_name}\" [Default]\n",
    "config.partial_movie_dir = directory + \"/partial_movie_files/{scene_name}\"\n",
    "\n",
    "# images_dir = \"{media_dir}/images/{module_name}\" [Default]\n",
    "config.images_dir = directory + \"/images/{module_name}\""
   ]
  },
  {
   "cell_type": "code",
   "execution_count": null,
   "id": "810b64c3",
   "metadata": {},
   "outputs": [],
   "source": [
    "# config.tex_dir = \"{media_dir}/Tex\" [Default]\n",
    "config.tex_dir = directory + \"/Tex\"\n",
    "\n",
    "# config.tex_dir = \"{media_dir}/texts\" [Default]\n",
    "config.text_dir = directory + \"/texts\""
   ]
  },
  {
   "cell_type": "code",
   "execution_count": null,
   "id": "7b13e0e4",
   "metadata": {},
   "outputs": [],
   "source": [
    "# If you choose to alter the path media_dir\n",
    "# but wish to render the video within a jupyter notebook environment,\n",
    "# then it is necessary to also alter the media_embed path\n",
    "\n",
    "# config.media_dir = \"./media_dir\" [Default]\n",
    "config.media_dir = directory\n",
    "\n",
    "# config.media_embed = \"None\" [Default]\n",
    "config.media_embed = directory + \"/jupyter\""
   ]
  },
  {
   "cell_type": "code",
   "execution_count": 3,
   "id": "aa474e29",
   "metadata": {},
   "outputs": [],
   "source": [
    "# Adjusting the video width\n",
    "config.media_width = \"75%\"\n",
    "\n",
    "# Adjusting the frame rate\n",
    "config.frame_rate = 25"
   ]
  },
  {
   "cell_type": "code",
   "execution_count": 4,
   "id": "6e3647af",
   "metadata": {},
   "outputs": [],
   "source": [
    "# config.enable_gui = False\n",
    "\n",
    "# Setting gui to True\n",
    "config.enable_gui = True"
   ]
  },
  {
   "cell_type": "code",
   "execution_count": null,
   "id": "bc75aea3",
   "metadata": {},
   "outputs": [],
   "source": [
    "%%manim -qm LaTeX\n",
    "\n",
    "class LaTeX(Scene):\n",
    "    def construct(self):\n",
    "        equation = MathTex(\n",
    "            r\"e^x = x^0 + x^1 + \\frac{1}{2} x^2 + \\frac{1}{6} x^3 + \\cdots + \\frac{1}{n!} x^n + \\cdots\",\n",
    "            substrings_to_isolate=\"x\"\n",
    "        )\n",
    "        equation.set_color_by_tex(\"x\", YELLOW)\n",
    "        self.play(Write(equation))"
   ]
  },
  {
   "cell_type": "code",
   "execution_count": null,
   "id": "d9fd5e34",
   "metadata": {},
   "outputs": [],
   "source": [
    "# Change the background color of video\n",
    "config.background_color = WHITE"
   ]
  },
  {
   "cell_type": "code",
   "execution_count": null,
   "id": "cf9a882d",
   "metadata": {},
   "outputs": [],
   "source": [
    "%%manim -qm LaTeX\n",
    "\n",
    "class LaTeX(Scene):\n",
    "    def construct(self):\n",
    "        equation = MathTex(\n",
    "            r\"e^x = x^0 + x^1 + \\frac{1}{2} x^2 + \\frac{1}{6} x^3 + \\cdots + \\frac{1}{n!} x^n + \\cdots\",\n",
    "            substrings_to_isolate=\"x\"\n",
    "        )\n",
    "        equation.set_color(BLACK)\n",
    "        equation.set_color_by_tex(\"x\", RED)\n",
    "        self.play(Write(equation))"
   ]
  },
  {
   "cell_type": "code",
   "execution_count": null,
   "id": "9b536842",
   "metadata": {},
   "outputs": [],
   "source": [
    "# Change the background color of video\n",
    "config.background_color = BLACK"
   ]
  },
  {
   "cell_type": "code",
   "execution_count": null,
   "id": "c55409ba",
   "metadata": {},
   "outputs": [],
   "source": [
    "%%manim -qm LaTeX\n",
    "\n",
    "class LaTeX(Scene):\n",
    "    def construct(self):\n",
    "        equation = MathTex(\n",
    "            r\"e^x = x^0 + x^1 + \\frac{1}{2} x^2 + \\frac{1}{6} x^3 + \\cdots + \\frac{1}{n!} x^n + \\cdots\",\n",
    "            substrings_to_isolate=\"x\"\n",
    "        )\n",
    "        equation.set_color_by_tex(\"x\", YELLOW)\n",
    "        self.play(Write(equation))"
   ]
  },
  {
   "cell_type": "markdown",
   "id": "eaf757b2",
   "metadata": {},
   "source": [
    "## Sections"
   ]
  },
  {
   "cell_type": "code",
   "execution_count": 15,
   "id": "f604413e",
   "metadata": {},
   "outputs": [
    {
     "name": "stderr",
     "output_type": "stream",
     "text": [
      "                                                                                                                       \r"
     ]
    },
    {
     "data": {
      "text/html": [
       "<video src=\"media\\jupyter\\Sections@2023-04-16@16-46-35.mp4\" controls autoplay loop style=\"max-width: 75%;\"  >\n",
       "      Your browser does not support the <code>video</code> element.\n",
       "    </video>"
      ],
      "text/plain": [
       "<IPython.core.display.Video object>"
      ]
     },
     "metadata": {},
     "output_type": "display_data"
    }
   ],
   "source": [
    "%%manim -qm Sections\n",
    "\n",
    "class Sections(Scene):\n",
    "    \n",
    "    def construct(self):\n",
    "        # play the first animations...\n",
    "        \n",
    "        \n",
    "        label = Text(\"This is a circle\", color=WHITE)\n",
    "        self.play(Write(label), run_time=2)\n",
    "        self.play(FadeOut(label))\n",
    "               \n",
    "        # now we wait 1sec and have an animation to satisfy the section\n",
    "        self.wait(1)\n",
    "        \n",
    "        circle = Circle()\n",
    "        \n",
    "        self.play(FadeIn(circle))\n",
    "        self.play(FadeOut(circle))\n",
    "        \n",
    "        self.wait(2)\n",
    "        \n",
    "        \n",
    "        # you don't need a section in the very beginning as it gets created automatically\n",
    "        self.next_section()\n",
    "        # play more animations...\n",
    "        \n",
    "        \n",
    "        label = Text(\"This is a triangle\", color=WHITE)\n",
    "        self.play(Write(label), run_time=2)\n",
    "        self.play(FadeOut(label))\n",
    "               \n",
    "        # now we wait 1sec and have an animation to satisfy the section\n",
    "        self.wait(1)\n",
    "        \n",
    "        triangle = Triangle()\n",
    "        \n",
    "        self.play(FadeIn(triangle))\n",
    "        self.play(FadeOut(triangle))\n",
    "        \n",
    "        self.wait(2)\n",
    "        \n",
    "        \n",
    "        self.next_section(\"this is an optional name that doesn't have to be unique\")\n",
    "        # play even more animations...\n",
    "        \n",
    "\n",
    "        \n",
    "        label = Text(\"This is a rectangle\", color=WHITE)\n",
    "        self.play(Write(label), run_time=2)\n",
    "        self.play(FadeOut(label))\n",
    "               \n",
    "        # now we wait 1sec and have an animation to satisfy the section\n",
    "        self.wait(1)\n",
    "        \n",
    "        rectangle = Rectangle(color=BLUE)\n",
    "        \n",
    "        self.play(FadeIn(rectangle))\n",
    "        self.play(FadeOut(rectangle))\n",
    "        \n",
    "        self.wait(2)\n",
    "        \n",
    "        \n",
    "        self.next_section(\"this is a section without any animations, it will be removed\")    \n",
    "        \n",
    "        \n",
    "        label = Text(\"This is a square\", color=WHITE)\n",
    "        self.play(Write(label), run_time=2)\n",
    "        self.play(FadeOut(label))\n",
    "               \n",
    "        # now we wait 1sec and have an animation to satisfy the section\n",
    "        self.wait(1)\n",
    "        \n",
    "        square = Square(color=RED)\n",
    "        \n",
    "        self.play(FadeIn(square))\n",
    "        self.play(FadeOut(square))\n",
    "        \n",
    "        self.wait(2)"
   ]
  },
  {
   "cell_type": "code",
   "execution_count": 17,
   "id": "cbe22eb8",
   "metadata": {},
   "outputs": [
    {
     "name": "stdout",
     "output_type": "stream",
     "text": [
      "<class 'str'>   C:\\Users\\Frank\\Desktop\\Manim\\videos\n"
     ]
    }
   ],
   "source": [
    "import os\n",
    "\n",
    "directory = os.getcwd()\n",
    "\n",
    "PATH = os.path.join(directory, \"videos\")\n",
    "\n",
    "print(type(PATH), \" \", PATH)"
   ]
  },
  {
   "cell_type": "code",
   "execution_count": 18,
   "id": "be6497b8",
   "metadata": {},
   "outputs": [],
   "source": [
    "# Specify whether sections should be saved\n",
    "config.save_sections = True\n",
    "\n",
    "# Specify where sections should be saved\n",
    "config.sections_dir = directory + \"/sections\""
   ]
  },
  {
   "cell_type": "code",
   "execution_count": 20,
   "id": "389e1830",
   "metadata": {},
   "outputs": [],
   "source": [
    "config.enable_gui = False"
   ]
  },
  {
   "cell_type": "code",
   "execution_count": 21,
   "id": "0ed1a4d4",
   "metadata": {},
   "outputs": [
    {
     "name": "stderr",
     "output_type": "stream",
     "text": [
      "                                                                                                                       \r"
     ]
    },
    {
     "data": {
      "text/html": [
       "<video src=\"media\\jupyter\\Sections@2023-04-16@16-47-42.mp4\" controls autoplay loop style=\"max-width: 75%;\"  >\n",
       "      Your browser does not support the <code>video</code> element.\n",
       "    </video>"
      ],
      "text/plain": [
       "<IPython.core.display.Video object>"
      ]
     },
     "metadata": {},
     "output_type": "display_data"
    }
   ],
   "source": [
    "%%manim -qm Sections\n",
    "\n",
    "class Sections(Scene):\n",
    "    \n",
    "    def construct(self):\n",
    "        # play the first animations...\n",
    "        \n",
    "        \n",
    "        label = Text(\"This is a circle\", color=WHITE)\n",
    "        self.play(Write(label), run_time=2)\n",
    "        self.play(FadeOut(label))\n",
    "               \n",
    "        # now we wait 1sec and have an animation to satisfy the section\n",
    "        self.wait(1)\n",
    "        \n",
    "        circle = Circle()\n",
    "        \n",
    "        self.play(FadeIn(circle))\n",
    "        self.play(FadeOut(circle))\n",
    "        \n",
    "        self.wait(2)\n",
    "        \n",
    "        \n",
    "        # you don't need a section in the very beginning as it gets created automatically\n",
    "        self.next_section()\n",
    "        # play more animations...\n",
    "        \n",
    "        \n",
    "        label = Text(\"This is a triangle\", color=WHITE)\n",
    "        self.play(Write(label), run_time=2)\n",
    "        self.play(FadeOut(label))\n",
    "               \n",
    "        # now we wait 1sec and have an animation to satisfy the section\n",
    "        self.wait(1)\n",
    "        \n",
    "        triangle = Triangle()\n",
    "        \n",
    "        self.play(FadeIn(triangle))\n",
    "        self.play(FadeOut(triangle))\n",
    "        \n",
    "        self.wait(2)\n",
    "        \n",
    "        \n",
    "        self.next_section(\"this is an optional name that doesn't have to be unique\")\n",
    "        # play even more animations...\n",
    "        \n",
    "\n",
    "        \n",
    "        label = Text(\"This is a rectangle\", color=WHITE)\n",
    "        self.play(Write(label), run_time=2)\n",
    "        self.play(FadeOut(label))\n",
    "               \n",
    "        # now we wait 1sec and have an animation to satisfy the section\n",
    "        self.wait(1)\n",
    "        \n",
    "        rectangle = Rectangle(color=BLUE)\n",
    "        \n",
    "        self.play(FadeIn(rectangle))\n",
    "        self.play(FadeOut(rectangle))\n",
    "        \n",
    "        self.wait(2)\n",
    "        \n",
    "        \n",
    "        self.next_section(\"this is a section without any animations, it will be removed\")    \n",
    "        \n",
    "        \n",
    "        label = Text(\"This is a square\", color=WHITE)\n",
    "        self.play(Write(label), run_time=2)\n",
    "        self.play(FadeOut(label))\n",
    "               \n",
    "        # now we wait 1sec and have an animation to satisfy the section\n",
    "        self.wait(1)\n",
    "        \n",
    "        square = Square(color=RED)\n",
    "        \n",
    "        self.play(FadeIn(square))\n",
    "        self.play(FadeOut(square))\n",
    "        \n",
    "        self.wait(2)"
   ]
  },
  {
   "cell_type": "code",
   "execution_count": 22,
   "id": "b16f5bcc",
   "metadata": {},
   "outputs": [
    {
     "name": "stderr",
     "output_type": "stream",
     "text": [
      "                                                                                                                       \r"
     ]
    },
    {
     "data": {
      "text/html": [
       "<video src=\"media\\jupyter\\Sections@2023-04-16@16-47-51.mp4\" controls autoplay loop style=\"max-width: 75%;\"  >\n",
       "      Your browser does not support the <code>video</code> element.\n",
       "    </video>"
      ],
      "text/plain": [
       "<IPython.core.display.Video object>"
      ]
     },
     "metadata": {},
     "output_type": "display_data"
    }
   ],
   "source": [
    "%%manim -qm Sections\n",
    "\n",
    "class Sections(Scene):\n",
    "    \n",
    "    def construct(self):\n",
    "        # play the first animations...\n",
    "        \n",
    "        \n",
    "        label = Text(\"This is a circle\", color=WHITE)\n",
    "        self.play(Write(label), run_time=2)\n",
    "        self.play(FadeOut(label))\n",
    "               \n",
    "        # now we wait 1sec and have an animation to satisfy the section\n",
    "        self.wait(1)\n",
    "        \n",
    "        circle = Circle()\n",
    "        \n",
    "        self.play(FadeIn(circle))\n",
    "        self.play(FadeOut(circle))\n",
    "        \n",
    "        self.wait(2)\n",
    "        \n",
    "        \n",
    "        # you don't need a section in the very beginning as it gets created automatically\n",
    "        self.next_section()\n",
    "        # play more animations...\n",
    "        \n",
    "        \n",
    "        label = Text(\"This is a triangle\", color=WHITE)\n",
    "        self.play(Write(label), run_time=2)\n",
    "        self.play(FadeOut(label))\n",
    "               \n",
    "        # now we wait 1sec and have an animation to satisfy the section\n",
    "        self.wait(1)\n",
    "        \n",
    "        triangle = Triangle()\n",
    "        \n",
    "        self.play(FadeIn(triangle))\n",
    "        self.play(FadeOut(triangle))\n",
    "        \n",
    "        self.wait(2)\n",
    "        \n",
    "        \n",
    "        self.next_section(\"this is an optional name that doesn't have to be unique\")\n",
    "        # play even more animations...\n",
    "        \n",
    "\n",
    "        \n",
    "        label = Text(\"This is a rectangle\", color=WHITE)\n",
    "        self.play(Write(label), run_time=2)\n",
    "        self.play(FadeOut(label))\n",
    "               \n",
    "        # now we wait 1sec and have an animation to satisfy the section\n",
    "        self.wait(1)\n",
    "        \n",
    "        rectangle = Rectangle(color=BLUE)\n",
    "        \n",
    "        self.play(FadeIn(rectangle))\n",
    "        self.play(FadeOut(rectangle))\n",
    "        \n",
    "        self.wait(2)\n",
    "        \n",
    "        \n",
    "        self.next_section(\"this is a section without any animations, it will be removed\")    \n",
    "        \n",
    "        \n",
    "        label = Text(\"This is a square\", color=WHITE)\n",
    "        self.play(Write(label), run_time=2)\n",
    "        self.play(FadeOut(label))\n",
    "               \n",
    "        # now we wait 1sec and have an animation to satisfy the section\n",
    "        self.wait(1)\n",
    "        \n",
    "        square = Square(color=RED)\n",
    "        \n",
    "        self.play(FadeIn(square))\n",
    "        self.play(FadeOut(square))\n",
    "        \n",
    "        self.wait(2)"
   ]
  },
  {
   "cell_type": "code",
   "execution_count": 23,
   "id": "5811966d",
   "metadata": {},
   "outputs": [
    {
     "data": {
      "text/plain": [
       "['Agency FB',\n",
       " 'Algerian',\n",
       " 'Arial',\n",
       " 'Arial Black',\n",
       " 'Arial Narrow',\n",
       " 'Arial Rounded MT Bold',\n",
       " 'Arial Unicode MS',\n",
       " 'Bahnschrift',\n",
       " 'Bahnschrift Condensed',\n",
       " 'Bahnschrift Light',\n",
       " 'Bahnschrift Light Condensed',\n",
       " 'Bahnschrift Light SemiCondensed',\n",
       " 'Bahnschrift SemiBold',\n",
       " 'Bahnschrift SemiBold Condensed',\n",
       " 'Bahnschrift SemiBold SemiConden',\n",
       " 'Bahnschrift SemiCondensed',\n",
       " 'Bahnschrift SemiLight',\n",
       " 'Bahnschrift SemiLight Condensed',\n",
       " 'Bahnschrift SemiLight SemiConde',\n",
       " 'Baskerville Old Face',\n",
       " 'Bauhaus 93',\n",
       " 'Bell MT',\n",
       " 'Berlin Sans FB',\n",
       " 'Berlin Sans FB Demi',\n",
       " 'Bernard MT Condensed',\n",
       " 'Blackadder ITC',\n",
       " 'Bodoni MT',\n",
       " 'Bodoni MT Black',\n",
       " 'Bodoni MT Condensed',\n",
       " 'Bodoni MT Poster Compressed',\n",
       " 'Book Antiqua',\n",
       " 'Bookman Old Style',\n",
       " 'Bradley Hand ITC',\n",
       " 'Britannic Bold',\n",
       " 'Broadway',\n",
       " 'Brush Script MT',\n",
       " 'Calibri',\n",
       " 'Calibri Light',\n",
       " 'Californian FB',\n",
       " 'Calisto MT',\n",
       " 'Cambria',\n",
       " 'Cambria Math',\n",
       " 'Candara',\n",
       " 'Candara Light',\n",
       " 'Castellar',\n",
       " 'Centaur',\n",
       " 'Century',\n",
       " 'Century Gothic',\n",
       " 'Century Schoolbook',\n",
       " 'Chiller',\n",
       " 'Colonna MT',\n",
       " 'Comic Sans MS',\n",
       " 'Consolas',\n",
       " 'Constantia',\n",
       " 'Cooper Black',\n",
       " 'Copperplate Gothic Bold',\n",
       " 'Copperplate Gothic Light',\n",
       " 'Corbel',\n",
       " 'Corbel Light',\n",
       " 'Courier New',\n",
       " 'Curlz MT',\n",
       " 'Cursive',\n",
       " 'Dubai',\n",
       " 'Dubai Light',\n",
       " 'Dubai Medium',\n",
       " 'Ebrima',\n",
       " 'Edwardian Script ITC',\n",
       " 'Elephant',\n",
       " 'Engravers MT',\n",
       " 'Eras Bold ITC',\n",
       " 'Eras Demi ITC',\n",
       " 'Eras Light ITC',\n",
       " 'Eras Medium ITC',\n",
       " 'Fantasy',\n",
       " 'Felix Titling',\n",
       " 'Footlight MT Light',\n",
       " 'Forte',\n",
       " 'Franklin Gothic Book',\n",
       " 'Franklin Gothic Demi',\n",
       " 'Franklin Gothic Demi Cond',\n",
       " 'Franklin Gothic Heavy',\n",
       " 'Franklin Gothic Medium',\n",
       " 'Franklin Gothic Medium Cond',\n",
       " 'Freestyle Script',\n",
       " 'French Script MT',\n",
       " 'Gabriola',\n",
       " 'Gadugi',\n",
       " 'Garamond',\n",
       " 'Georgia',\n",
       " 'Gigi',\n",
       " 'Gill Sans MT',\n",
       " 'Gill Sans MT Condensed',\n",
       " 'Gill Sans MT Ext Condensed Bold',\n",
       " 'Gill Sans Ultra Bold',\n",
       " 'Gill Sans Ultra Bold Condensed',\n",
       " 'Gloucester MT Extra Condensed',\n",
       " 'Goudy Old Style',\n",
       " 'Goudy Stout',\n",
       " 'Haettenschweiler',\n",
       " 'Harlow Solid Italic',\n",
       " 'Harrington',\n",
       " 'High Tower Text',\n",
       " 'HoloLens MDL2 Assets',\n",
       " 'Impact',\n",
       " 'Imprint MT Shadow',\n",
       " 'Informal Roman',\n",
       " 'Ink Free',\n",
       " 'Javanese Text',\n",
       " 'Jokerman',\n",
       " 'Juice ITC',\n",
       " 'Kristen ITC',\n",
       " 'Kunstler Script',\n",
       " 'Leelawadee',\n",
       " 'Leelawadee UI',\n",
       " 'Leelawadee UI Semilight',\n",
       " 'Lucida Bright',\n",
       " 'Lucida Calligraphy',\n",
       " 'Lucida Console',\n",
       " 'Lucida Fax',\n",
       " 'Lucida Handwriting',\n",
       " 'Lucida Sans',\n",
       " 'Lucida Sans Typewriter',\n",
       " 'Lucida Sans Unicode',\n",
       " 'MS Gothic',\n",
       " 'MS PGothic',\n",
       " 'MS Reference Sans Serif',\n",
       " 'MS UI Gothic',\n",
       " 'MV Boli',\n",
       " 'Magneto',\n",
       " 'Maiandra GD',\n",
       " 'Malgun Gothic',\n",
       " 'Malgun Gothic Semilight',\n",
       " 'Matura MT Script Capitals',\n",
       " 'Meiryo',\n",
       " 'Meiryo UI',\n",
       " 'Microsoft Himalaya',\n",
       " 'Microsoft JhengHei',\n",
       " 'Microsoft JhengHei Light',\n",
       " 'Microsoft JhengHei UI',\n",
       " 'Microsoft JhengHei UI Light',\n",
       " 'Microsoft New Tai Lue',\n",
       " 'Microsoft PhagsPa',\n",
       " 'Microsoft Sans Serif',\n",
       " 'Microsoft Tai Le',\n",
       " 'Microsoft Uighur',\n",
       " 'Microsoft YaHei',\n",
       " 'Microsoft YaHei Light',\n",
       " 'Microsoft YaHei UI',\n",
       " 'Microsoft YaHei UI Light',\n",
       " 'Microsoft Yi Baiti',\n",
       " 'MingLiU-ExtB',\n",
       " 'MingLiU_HKSCS-ExtB',\n",
       " 'Mistral',\n",
       " 'Modern No. 20',\n",
       " 'Mongolian Baiti',\n",
       " 'Monospace',\n",
       " 'Monotype Corsiva',\n",
       " 'Myanmar Text',\n",
       " 'NSimSun',\n",
       " 'Niagara Engraved',\n",
       " 'Niagara Solid',\n",
       " 'Nirmala UI',\n",
       " 'Nirmala UI Semilight',\n",
       " 'OCR A Extended',\n",
       " 'Old English Text MT',\n",
       " 'Onyx',\n",
       " 'PMingLiU-ExtB',\n",
       " 'Palace Script MT',\n",
       " 'Palatino Linotype',\n",
       " 'Papyrus',\n",
       " 'Parchment',\n",
       " 'Perpetua',\n",
       " 'Perpetua Titling MT',\n",
       " 'Playbill',\n",
       " 'Poor Richard',\n",
       " 'Pristina',\n",
       " 'Rage Italic',\n",
       " 'Ravie',\n",
       " 'Rockwell',\n",
       " 'Rockwell Condensed',\n",
       " 'Rockwell Extra Bold',\n",
       " 'Sans',\n",
       " 'Script MT Bold',\n",
       " 'Segoe MDL2 Assets',\n",
       " 'Segoe Print',\n",
       " 'Segoe Script',\n",
       " 'Segoe UI',\n",
       " 'Segoe UI Black',\n",
       " 'Segoe UI Emoji',\n",
       " 'Segoe UI Historic',\n",
       " 'Segoe UI Light',\n",
       " 'Segoe UI Semibold',\n",
       " 'Segoe UI Semilight',\n",
       " 'Segoe UI Symbol',\n",
       " 'Serif',\n",
       " 'Showcard Gothic',\n",
       " 'SimSun',\n",
       " 'SimSun-ExtB',\n",
       " 'Sitka Banner',\n",
       " 'Sitka Display',\n",
       " 'Sitka Heading',\n",
       " 'Sitka Small',\n",
       " 'Sitka Subheading',\n",
       " 'Sitka Text',\n",
       " 'Snap ITC',\n",
       " 'Stencil',\n",
       " 'Sylfaen',\n",
       " 'System-ui',\n",
       " 'Tahoma',\n",
       " 'Tempus Sans ITC',\n",
       " 'Times New Roman',\n",
       " 'Trebuchet MS',\n",
       " 'Tw Cen MT',\n",
       " 'Tw Cen MT Condensed',\n",
       " 'Tw Cen MT Condensed Extra Bold',\n",
       " 'Verdana',\n",
       " 'Viner Hand ITC',\n",
       " 'Vivaldi',\n",
       " 'Vladimir Script',\n",
       " 'Wide Latin',\n",
       " 'Yu Gothic',\n",
       " 'Yu Gothic Light',\n",
       " 'Yu Gothic Medium',\n",
       " 'Yu Gothic UI',\n",
       " 'Yu Gothic UI Light',\n",
       " 'Yu Gothic UI Semibold',\n",
       " 'Yu Gothic UI Semilight']"
      ]
     },
     "execution_count": 23,
     "metadata": {},
     "output_type": "execute_result"
    }
   ],
   "source": [
    "import manimpango\n",
    "manimpango.list_fonts()"
   ]
  },
  {
   "cell_type": "code",
   "execution_count": 26,
   "id": "35952a32",
   "metadata": {},
   "outputs": [
    {
     "name": "stderr",
     "output_type": "stream",
     "text": [
      "                                                                                                                       \r"
     ]
    },
    {
     "data": {
      "text/html": [
       "<video src=\"media\\jupyter\\Sections@2023-04-16@16-49-37.mp4\" controls autoplay loop style=\"max-width: 75%;\"  >\n",
       "      Your browser does not support the <code>video</code> element.\n",
       "    </video>"
      ],
      "text/plain": [
       "<IPython.core.display.Video object>"
      ]
     },
     "metadata": {},
     "output_type": "display_data"
    }
   ],
   "source": [
    "%%manim -qm Sections\n",
    "\n",
    "class Sections(Scene):\n",
    "    \n",
    "    def construct(self):\n",
    "        # play the first animations...\n",
    "        \n",
    "        label = Text(\"This is a circle\", color=WHITE, font_size=80, font=\"Arial\")\n",
    "        self.play(Write(label), run_time=2)\n",
    "        self.play(FadeOut(label))\n",
    "               \n",
    "        # now we wait 1sec and have an animation to satisfy the section\n",
    "        self.wait(1)\n",
    "        \n",
    "        circle = Circle()\n",
    "        \n",
    "        self.play(FadeIn(circle))\n",
    "        self.play(FadeOut(circle))\n",
    "        \n",
    "        self.wait(2)\n",
    "        \n",
    "        \n",
    "        # you don't need a section in the very beginning as it gets created automatically\n",
    "        self.next_section()\n",
    "        # play more animations...\n",
    "        \n",
    "        \n",
    "        label = Text(\"This is a triangle\", color=BLUE)\n",
    "        self.play(Write(label), run_time=2)\n",
    "        self.play(FadeOut(label))\n",
    "               \n",
    "        # now we wait 1sec and have an animation to satisfy the section\n",
    "        self.wait(1)\n",
    "        \n",
    "        triangle = Triangle()\n",
    "        \n",
    "        self.play(FadeIn(triangle))\n",
    "        self.play(FadeOut(triangle))\n",
    "        \n",
    "        self.wait(2)\n",
    "        \n",
    "        \n",
    "        self.next_section(\"this is an optional name that doesn't have to be unique\")\n",
    "        # play even more animations...\n",
    "        \n",
    "        \n",
    "        label = Text(\"This is a rectangle\", color=GREEN)\n",
    "        self.play(Write(label), run_time=2)\n",
    "        self.play(FadeOut(label))\n",
    "               \n",
    "        # now we wait 1sec and have an animation to satisfy the section\n",
    "        self.wait(1)\n",
    "        \n",
    "        rectangle = Rectangle(color=BLUE)\n",
    "        \n",
    "        self.play(FadeIn(rectangle))\n",
    "        self.play(FadeOut(rectangle))\n",
    "        \n",
    "        self.wait(2)\n",
    "        \n",
    "        \n",
    "        self.next_section(\"this is a section without any animations, it will be removed\")    \n",
    "        \n",
    "        \n",
    "        label = Text(\"This is a square\", color=RED, font_size=90, font=\"Arial\")\n",
    "        self.play(Write(label), run_time=2)\n",
    "        self.play(FadeOut(label))\n",
    "               \n",
    "        # now we wait 1sec and have an animation to satisfy the section\n",
    "        self.wait(1)\n",
    "        \n",
    "        square = Square(color=RED)\n",
    "        \n",
    "        self.play(FadeIn(square))\n",
    "        self.play(FadeOut(square))\n",
    "        \n",
    "        self.wait(2)"
   ]
  },
  {
   "cell_type": "code",
   "execution_count": null,
   "id": "9b0a1f0e",
   "metadata": {},
   "outputs": [],
   "source": []
  }
 ],
 "metadata": {
  "kernelspec": {
   "display_name": "Python 3 (ipykernel)",
   "language": "python",
   "name": "python3"
  },
  "language_info": {
   "codemirror_mode": {
    "name": "ipython",
    "version": 3
   },
   "file_extension": ".py",
   "mimetype": "text/x-python",
   "name": "python",
   "nbconvert_exporter": "python",
   "pygments_lexer": "ipython3",
   "version": "3.11.2"
  }
 },
 "nbformat": 4,
 "nbformat_minor": 5
}
